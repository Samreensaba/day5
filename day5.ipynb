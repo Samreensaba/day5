{
 "cells": [
  {
   "cell_type": "code",
   "execution_count": 5,
   "id": "a566d99d-6178-4f5e-957f-64113614a477",
   "metadata": {},
   "outputs": [
    {
     "name": "stdout",
     "output_type": "stream",
     "text": [
      "Marvel Movie Character Creator\n",
      "\n",
      "Lets find out your character please answer few simple questions using y or n for yes or no\n",
      "\n"
     ]
    },
    {
     "name": "stdin",
     "output_type": "stream",
     "text": [
      "Do you like 'hanging around'? n\n"
     ]
    },
    {
     "name": "stdout",
     "output_type": "stream",
     "text": [
      "You are not spider-man\n"
     ]
    },
    {
     "name": "stdin",
     "output_type": "stream",
     "text": [
      "Do you have a 'gravelly' voice? y\n"
     ]
    },
    {
     "name": "stdout",
     "output_type": "stream",
     "text": [
      "You are korg\n"
     ]
    },
    {
     "name": "stdin",
     "output_type": "stream",
     "text": [
      "Do you often feel 'Marvelous'? y\n"
     ]
    },
    {
     "name": "stdout",
     "output_type": "stream",
     "text": [
      "You are Captain Marvel! Hi!\n"
     ]
    }
   ],
   "source": [
    "print(\"Marvel Movie Character Creator\")\n",
    "print()\n",
    "print(\"Lets find out your character please answer few simple questions using y or n for yes or no\")\n",
    "print()\n",
    "hangingAround = input(\"Do you like 'hanging around'?\")\n",
    "if hangingAround == \"y\" :\n",
    "  print(\"You are spider-man\")\n",
    "else:\n",
    "  print(\"You are not spider-man\")\n",
    "gravellyVoice = input(\"Do you have a 'gravelly' voice?\")\n",
    "if gravellyVoice == \"y\":\n",
    "  print(\"You are korg\")\n",
    "else:\n",
    "  print(\"You are not korg\")\n",
    "marvelous = input(\"Do you often feel 'Marvelous'?\")\n",
    "if marvelous == \"y\":\n",
    "  print(\"You are Captain Marvel! Hi!\")\n",
    "else:\n",
    "  print(\"You are not Captian Marvel\")"
   ]
  },
  {
   "cell_type": "code",
   "execution_count": null,
   "id": "befc8998-39ac-4a66-910e-6684cf066d69",
   "metadata": {},
   "outputs": [],
   "source": []
  }
 ],
 "metadata": {
  "kernelspec": {
   "display_name": "Python 3 (ipykernel)",
   "language": "python",
   "name": "python3"
  },
  "language_info": {
   "codemirror_mode": {
    "name": "ipython",
    "version": 3
   },
   "file_extension": ".py",
   "mimetype": "text/x-python",
   "name": "python",
   "nbconvert_exporter": "python",
   "pygments_lexer": "ipython3",
   "version": "3.12.4"
  }
 },
 "nbformat": 4,
 "nbformat_minor": 5
}
